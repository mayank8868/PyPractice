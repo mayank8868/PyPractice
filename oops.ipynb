{
 "cells": [
  {
   "cell_type": "markdown",
   "id": "8bd9a220-9d6c-46ef-bd6e-85d55549c6d3",
   "metadata": {},
   "source": [
    "## what is class?"
   ]
  },
  {
   "cell_type": "raw",
   "id": "aae8aa20-0733-4123-814f-8e550deeab80",
   "metadata": {},
   "source": [
    " a class is a code templet for operating objects. objects has member variables and have behaviour associated with them in python a class is created by the keyword class."
   ]
  },
  {
   "cell_type": "code",
   "execution_count": 11,
   "id": "08fb57c2-b37a-48c3-a73a-10c30a9ab419",
   "metadata": {},
   "outputs": [
    {
     "name": "stdout",
     "output_type": "stream",
     "text": [
      "A Mayank\n"
     ]
    }
   ],
   "source": [
    "class Human:\n",
    "    def __init__(self):\n",
    "        self.data=\"Mayank\"\n",
    "    def A(self):\n",
    "        data=self.data\n",
    "        print(\"A\",data)\n",
    "    def B(self):\n",
    "        print(\"B\")\n",
    "obj= Human()\n",
    "obj.A()\n",
    "        "
   ]
  },
  {
   "cell_type": "markdown",
   "id": "2f7b98ce-c34c-4e0f-9885-fbabae70758d",
   "metadata": {},
   "source": [
    "## Types of Attributes"
   ]
  },
  {
   "cell_type": "code",
   "execution_count": 35,
   "id": "8dcfdd67-5920-431a-99a4-ffb0b3dd7cc3",
   "metadata": {},
   "outputs": [
    {
     "name": "stdout",
     "output_type": "stream",
     "text": [
      "ryzen-7\n",
      "16\n"
     ]
    }
   ],
   "source": [
    "## instance :-\n",
    "class Computer:\n",
    "    def __init__(self,ram,cpu):\n",
    "        self.cpu=cpu\n",
    "        self.ram=ram\n",
    "obj=Computer(\"16\",\"ryzen-7\")\n",
    "obj_1=Computer(\"8\",\"ryzen-5\")\n",
    "print(obj.cpu)\n",
    "print(obj.ram)\n"
   ]
  },
  {
   "cell_type": "code",
   "execution_count": 47,
   "id": "80708831-4331-4634-8f47-0fc4105636a8",
   "metadata": {},
   "outputs": [
    {
     "name": "stdout",
     "output_type": "stream",
     "text": [
      "23\n",
      "23\n",
      "xyz\n"
     ]
    }
   ],
   "source": [
    "# class method\n",
    "class Student:\n",
    "    school='xyz'\n",
    "    def __init__(self,m1,m2):\n",
    "        self.m1=m1\n",
    "        self.m2=m2\n",
    "    def add(self):\n",
    "        print('a+b')\n",
    "    @classmethod\n",
    "    def info(cls):\n",
    "        return cls.school\n",
    "Student= Student(23,23)\n",
    "print(Student.m1)\n",
    "print(Student.m2)\n",
    "print(Student.info())"
   ]
  },
  {
   "cell_type": "code",
   "execution_count": 57,
   "id": "6a381abb-de17-4389-aae8-084b5f6a1a94",
   "metadata": {},
   "outputs": [],
   "source": [
    "# static method\n",
    "class Student:\n",
    "    #declare class variables\n",
    "    school='xyz'\n",
    "    def __init__(self,m1,m2):\n",
    "        self.m1=m1\n",
    "        self.m2=m2\n",
    "    @staticmethod\n",
    "    def info():\n",
    "        print(\"hlw everyone\")\n",
    "\n"
   ]
  },
  {
   "cell_type": "markdown",
   "id": "fc01fbe7-08d2-4b4d-9cb8-720d300bcc8d",
   "metadata": {},
   "source": [
    "## practice ques."
   ]
  },
  {
   "cell_type": "code",
   "execution_count": 7,
   "id": "03779a8f-d0b2-4285-b24c-1390a3bb3484",
   "metadata": {},
   "outputs": [
    {
     "name": "stdin",
     "output_type": "stream",
     "text": [
      "Enter the first string:  silent\n",
      "Enter the second string:  listen\n"
     ]
    },
    {
     "name": "stdout",
     "output_type": "stream",
     "text": [
      "The strings are anagrams.\n"
     ]
    }
   ],
   "source": [
    "##take two input strings  from user that given strings are anagram. \n",
    "def are_anagrams(str1, str2):\n",
    "    return sorted(str1) == sorted(str2)\n",
    "str1 = input(\"Enter the first string: \")\n",
    "str2 = input(\"Enter the second string: \")\n",
    "if are_anagrams(str1, str2):\n",
    "    print(\"The strings are anagrams.\")\n",
    "else:\n",
    "    print(\"The strings are not anagrams.\")\n"
   ]
  },
  {
   "cell_type": "code",
   "execution_count": 11,
   "id": "ae9560a0-68a0-44d8-968c-6fc51e997f8b",
   "metadata": {},
   "outputs": [
    {
     "name": "stdin",
     "output_type": "stream",
     "text": [
      "Enter the first list :  1,2,3,4,5,6,7,8,,9,99,88,77,66,55,44,33,22,11\n",
      "Enter the second list :  1,2,3,4,5,33,67,33,21,22,,66,77,87,56,12,23\n"
     ]
    },
    {
     "name": "stdout",
     "output_type": "stream",
     "text": [
      "Common elements: ['1', '2', '3', '4', '5', '', '77', '66', '33', '22']\n"
     ]
    }
   ],
   "source": [
    "## take two list from the user and put same elements os the list into third list without using set.\n",
    "list1 = input(\"Enter the first list : \")\n",
    "list2 = input(\"Enter the second list : \")\n",
    "common_elements = []\n",
    "for element in list1:\n",
    "    if element in list2 and element not in common_elements:\n",
    "        common_elements.append(element)\n",
    "print(\"Common elements:\", common_elements)\n"
   ]
  },
  {
   "cell_type": "code",
   "execution_count": 17,
   "id": "59c07790-5f73-401a-947b-b0138bbc2bcb",
   "metadata": {},
   "outputs": [
    {
     "name": "stdin",
     "output_type": "stream",
     "text": [
      "enter the name:  Mayank\n",
      "enter the gender:  M\n"
     ]
    },
    {
     "name": "stdout",
     "output_type": "stream",
     "text": [
      "MR Mayank M\n"
     ]
    }
   ],
   "source": [
    "#mr and mrs code\n",
    "Name= input(\"enter the name: \")\n",
    "Gender= input(\"enter the gender: \")\n",
    "if(Gender==\"M\"):\n",
    "    print(f'MR {Name} {Gender}')\n",
    "elif(Gnder==\"F\"):\n",
    "    print(f'MRs {Name} {Gendr}')\n",
    "else:\n",
    "    print(\"you are from other Gender\")"
   ]
  },
  {
   "cell_type": "code",
   "execution_count": 29,
   "id": "7aba3321-c3ef-4f8c-b871-17d99a2f7e3c",
   "metadata": {},
   "outputs": [
    {
     "name": "stdout",
     "output_type": "stream",
     "text": [
      "[('Mr raman', 'M'), ('Mr mohan', 'M'), ('Mrs radhika', 'F'), ('Mrs madhuri', 'F'), ('Mrs manika', 'F')]\n"
     ]
    }
   ],
   "source": [
    "data =[('raman','M'), ('mohan','M'),('radhika','F'),('madhuri','F'),('manika','F')]\n",
    "new_data=[]\n",
    "for i in data :\n",
    "    i=list(i)\n",
    "    if i[1] in 'M':\n",
    "        i[0]='Mr ' + str(i[0])\n",
    "    else:\n",
    "        i[0] = \"Mrs \" + str(i[0])\n",
    "    i= tuple(i)\n",
    "    new_data.append(i)\n",
    "print(new_data)"
   ]
  },
  {
   "cell_type": "markdown",
   "id": "e46fee0b-7aef-4b67-8055-1d8b2ca04a13",
   "metadata": {},
   "source": [
    "## Inheritance"
   ]
  },
  {
   "cell_type": "code",
   "execution_count": 36,
   "id": "b4919b5d-0d99-402b-96a7-513073dfbb95",
   "metadata": {},
   "outputs": [
    {
     "name": "stdout",
     "output_type": "stream",
     "text": [
      "this is a method a\n"
     ]
    }
   ],
   "source": [
    "##single level inheritance\n",
    "class parentclass:\n",
    "    def A(self):\n",
    "        print(\"this is a method a\")\n",
    "\n",
    "class childclass_A(parentclass):\n",
    "    def B(self):\n",
    "        print(\"this is a method b\")\n",
    "\n",
    "obj = childclass_A()\n",
    "obj.A()\n"
   ]
  },
  {
   "cell_type": "code",
   "execution_count": 42,
   "id": "46713e16-7bf3-472c-ad0f-f96ae9c0fbb2",
   "metadata": {},
   "outputs": [
    {
     "name": "stdout",
     "output_type": "stream",
     "text": [
      "this is a method b\n"
     ]
    }
   ],
   "source": [
    "# multiple inheritance\n",
    "class parentclass:\n",
    "    def A(self):\n",
    "        print(\"this is a method a\")\n",
    "class parentclass_B:\n",
    "    def B(self):\n",
    "        print(\"this is a method b\")\n",
    "\n",
    "class childclass_A(parentclass,parentclass_B):\n",
    "    def c(self):\n",
    "        print(\"this is a method c\")\n",
    "\n",
    "obj = childclass_A()\n",
    "obj.B()\n"
   ]
  },
  {
   "cell_type": "code",
   "execution_count": null,
   "id": "6df4affe-b775-4c3d-883f-1c14d52dd9c6",
   "metadata": {},
   "outputs": [],
   "source": [
    "## multilevel inheritance\n",
    "class ParentClass:\n",
    "    def A(self):\n",
    "        print(\"this is a method A\")\n",
    "class ParentClass_B(ParentClass):\n",
    "    def B(self):\n",
    "        print(\"this is a method B\")\n",
    "class ChildClass_A(ParentClass_B):\n",
    "    def C(self):\n",
    "        print(\"this is a method C\")\n",
    "obj = ChildClass_A()\n",
    "obj.B()  \n"
   ]
  },
  {
   "cell_type": "code",
   "execution_count": 55,
   "id": "6e7f08a8-8985-4ab6-b5d9-d6731dc33024",
   "metadata": {},
   "outputs": [
    {
     "name": "stdout",
     "output_type": "stream",
     "text": [
      "this is a method C\n",
      "this is a method B\n"
     ]
    }
   ],
   "source": [
    "## hierrarichal inheritance\n",
    "class ParentClass:\n",
    "    def A(self):\n",
    "        print(\"this is a method A\")\n",
    "\n",
    "class ChildClass_A(ParentClass):\n",
    "    def C(self):\n",
    "        print(\"this is a method C\")\n",
    "\n",
    "\n",
    "class ChildClass_B(ParentClass):\n",
    "    def B(self):\n",
    "        print(\"this is a method B\")\n",
    "\n",
    "\n",
    "obj_A = ChildClass_A()\n",
    "obj_B = ChildClass_B()\n",
    "\n",
    "obj_A.C()\n",
    "obj_B.B()\n",
    "\n",
    " "
   ]
  },
  {
   "cell_type": "markdown",
   "id": "4e99477f-efb6-42f0-b2f2-246fad9aa3d9",
   "metadata": {},
   "source": [
    "## Polymorphism"
   ]
  },
  {
   "cell_type": "code",
   "execution_count": null,
   "id": "23e02e79-2ceb-4805-88dc-1f6ef1de7a55",
   "metadata": {},
   "outputs": [],
   "source": [
    "class Parent:\n",
    "    def Aman(self):\n",
    "        print(\"he is a child of\")\n",
    "class Suman(Parent):\n",
    "    def Aman(self):\n",
    "        print(\"he is your husband\")\n",
    "obj"
   ]
  },
  {
   "cell_type": "markdown",
   "id": "aed222c8-38f9-43ab-a16d-ca9139eef129",
   "metadata": {},
   "source": [
    "## check balance"
   ]
  },
  {
   "cell_type": "code",
   "execution_count": 12,
   "id": "678337ab-4669-4160-bd52-8d5c629f2084",
   "metadata": {},
   "outputs": [
    {
     "name": "stdout",
     "output_type": "stream",
     "text": [
      "100\n"
     ]
    }
   ],
   "source": [
    "class Bankaccount:\n",
    "    def __init__(self, account_number, initial_balance):\n",
    "        self.account_number = account_number\n",
    "        self.balance = initial_balance \n",
    "        self.transaction_history = []\n",
    "    \n",
    "    def deposits(self, amount):\n",
    "        self.balance += amount \n",
    "        self.transaction_history.append(('deposit', amount))\n",
    "    \n",
    "    def withdraw(self, amount):\n",
    "        if amount > self.balance:\n",
    "            print(\"Insufficient balance\")\n",
    "        else:\n",
    "            self.balance -= amount\n",
    "            self.transaction_history.append((\"withdrawal\", amount)) \n",
    "    \n",
    "    def check_balance(self):\n",
    "        return self.balance\n",
    "    \n",
    "    def view_transaction_history(self):\n",
    "        for transaction in self.transaction_history:\n",
    "            print(transaction[0], transaction[1])\n",
    "\n",
    "ramesh = Bankaccount(1001, 100)\n",
    "print(ramesh.check_balance())  \n"
   ]
  },
  {
   "cell_type": "code",
   "execution_count": null,
   "id": "f9a814b0-4e9c-4c5e-b555-7e4bb602b1ce",
   "metadata": {},
   "outputs": [],
   "source": []
  }
 ],
 "metadata": {
  "kernelspec": {
   "display_name": "Python 3 (ipykernel)",
   "language": "python",
   "name": "python3"
  },
  "language_info": {
   "codemirror_mode": {
    "name": "ipython",
    "version": 3
   },
   "file_extension": ".py",
   "mimetype": "text/x-python",
   "name": "python",
   "nbconvert_exporter": "python",
   "pygments_lexer": "ipython3",
   "version": "3.12.4"
  }
 },
 "nbformat": 4,
 "nbformat_minor": 5
}
