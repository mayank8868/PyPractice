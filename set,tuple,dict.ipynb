{
 "cells": [
  {
   "cell_type": "markdown",
   "id": "057996bf-9903-4ef4-b934-f2ae6046abc0",
   "metadata": {},
   "source": [
    "# sets"
   ]
  },
  {
   "cell_type": "markdown",
   "id": "1c275c92-d2ea-41e3-b86b-14659818bcb7",
   "metadata": {},
   "source": [
    "a set is acollection which is unordered unchangeable and unindexed.\n",
    "sets cannot have two items with the same value."
   ]
  },
  {
   "cell_type": "code",
   "execution_count": 27,
   "id": "18682fb3-b771-4577-96e2-16838c49e131",
   "metadata": {},
   "outputs": [
    {
     "data": {
      "text/plain": [
       "set"
      ]
     },
     "execution_count": 27,
     "metadata": {},
     "output_type": "execute_result"
    }
   ],
   "source": [
    "s1={'x','y','z','s'}\n",
    "type(s1)"
   ]
  },
  {
   "cell_type": "code",
   "execution_count": 2,
   "id": "03de68e8-94e2-4fad-a455-9c33c5838ea7",
   "metadata": {},
   "outputs": [
    {
     "name": "stdout",
     "output_type": "stream",
     "text": [
      "set()\n",
      "<class 'set'>\n"
     ]
    }
   ],
   "source": [
    "set_var= set()\n",
    "print(set_var)\n",
    "print(type(set_var))"
   ]
  },
  {
   "cell_type": "code",
   "execution_count": 4,
   "id": "c4419e5e-50a0-43c6-8e18-7a6305b57fb0",
   "metadata": {},
   "outputs": [
    {
     "name": "stdout",
     "output_type": "stream",
     "text": [
      "{'mayank', 'avengers'}\n"
     ]
    },
    {
     "data": {
      "text/plain": [
       "set"
      ]
     },
     "execution_count": 4,
     "metadata": {},
     "output_type": "execute_result"
    }
   ],
   "source": [
    " set_var={\"avengers\",\"mayank\"}\n",
    "print(set_var)\n",
    "type(set_var)"
   ]
  },
  {
   "cell_type": "markdown",
   "id": "64cd1ead-56e9-44d3-ad1b-dbcb675f052f",
   "metadata": {},
   "source": [
    "# dictionary"
   ]
  },
  {
   "cell_type": "code",
   "execution_count": 7,
   "id": "116541fd-3924-45a7-85a0-1869d0ea5a16",
   "metadata": {},
   "outputs": [
    {
     "data": {
      "text/plain": [
       "dict"
      ]
     },
     "execution_count": 7,
     "metadata": {},
     "output_type": "execute_result"
    }
   ],
   "source": [
    "dic={}\n",
    "type(dic)"
   ]
  },
  {
   "cell_type": "code",
   "execution_count": 9,
   "id": "dccc00c6-3c1b-4ec6-93f2-ce3ff316e1f9",
   "metadata": {},
   "outputs": [
    {
     "data": {
      "text/plain": [
       "'audi'"
      ]
     },
     "execution_count": 9,
     "metadata": {},
     "output_type": "execute_result"
    }
   ],
   "source": [
    "my_dict={\"car1\":\"audi\",\"car2\":\"bmw\",\"car3\":\"benz\"}\n",
    "type(my_dict)\n",
    "my_dict['car1']"
   ]
  },
  {
   "cell_type": "code",
   "execution_count": 11,
   "id": "621ebd2a-17e4-464c-b540-8e56cb708d68",
   "metadata": {},
   "outputs": [
    {
     "name": "stdout",
     "output_type": "stream",
     "text": [
      "car1\n",
      "car2\n",
      "car3\n"
     ]
    }
   ],
   "source": [
    "# we can even loop throught the dictionaries keys\n",
    "for x in my_dict:\n",
    "    print(x)"
   ]
  },
  {
   "cell_type": "code",
   "execution_count": 13,
   "id": "589d758a-d059-4a77-a432-53b82e009c5b",
   "metadata": {},
   "outputs": [
    {
     "name": "stdout",
     "output_type": "stream",
     "text": [
      "audi\n",
      "bmw\n",
      "benz\n"
     ]
    }
   ],
   "source": [
    "#throught the dictionaries values\n",
    "for x in my_dict.values():\n",
    "    print(x)"
   ]
  },
  {
   "cell_type": "code",
   "execution_count": 15,
   "id": "230b15d6-8ddc-4385-9209-1055663df7ab",
   "metadata": {},
   "outputs": [
    {
     "name": "stdout",
     "output_type": "stream",
     "text": [
      "('car1', 'audi')\n",
      "('car2', 'bmw')\n",
      "('car3', 'benz')\n"
     ]
    }
   ],
   "source": [
    "# for both keys and values\n",
    "for x in my_dict.items():\n",
    "    print(x)"
   ]
  },
  {
   "cell_type": "code",
   "execution_count": 19,
   "id": "7136242b-4e74-4191-96f2-50d3dba3869a",
   "metadata": {},
   "outputs": [
    {
     "data": {
      "text/plain": [
       "dict_keys([1, 2, 3])"
      ]
     },
     "execution_count": 19,
     "metadata": {},
     "output_type": "execute_result"
    }
   ],
   "source": [
    "data={1:'ram',2:'kishor',3:'11'}\n",
    "type(data)\n",
    "data.keys()\n"
   ]
  },
  {
   "cell_type": "code",
   "execution_count": 21,
   "id": "a79063c1-5785-4f0e-9c09-54e4d449449c",
   "metadata": {},
   "outputs": [
    {
     "data": {
      "text/plain": [
       "dict_items([(1, 'ram'), (2, 'kishor'), (3, '11')])"
      ]
     },
     "execution_count": 21,
     "metadata": {},
     "output_type": "execute_result"
    }
   ],
   "source": [
    "data.items()\n",
    "\n"
   ]
  },
  {
   "cell_type": "code",
   "execution_count": 25,
   "id": "74ae7bb6-cd78-4b0e-9f5c-30e29a347a3d",
   "metadata": {},
   "outputs": [
    {
     "data": {
      "text/plain": [
       "dict_values(['ram', 'kishor', '11'])"
      ]
     },
     "execution_count": 25,
     "metadata": {},
     "output_type": "execute_result"
    }
   ],
   "source": [
    "data.values()"
   ]
  },
  {
   "cell_type": "code",
   "execution_count": 29,
   "id": "8c36dba4-64fd-4c81-9f3e-fd6728000e05",
   "metadata": {},
   "outputs": [
    {
     "data": {
      "text/plain": [
       "'11'"
      ]
     },
     "execution_count": 29,
     "metadata": {},
     "output_type": "execute_result"
    }
   ],
   "source": [
    "data.pop(3)"
   ]
  },
  {
   "cell_type": "code",
   "execution_count": 31,
   "id": "23190e72-850f-49fc-b547-02b980d5ad13",
   "metadata": {},
   "outputs": [
    {
     "data": {
      "text/plain": [
       "{1: 'ram', 2: 'kishor'}"
      ]
     },
     "execution_count": 31,
     "metadata": {},
     "output_type": "execute_result"
    }
   ],
   "source": [
    "data"
   ]
  },
  {
   "cell_type": "code",
   "execution_count": 43,
   "id": "8effde97-17a4-4450-b06e-df25fd641121",
   "metadata": {},
   "outputs": [
    {
     "data": {
      "text/plain": [
       "dict"
      ]
     },
     "execution_count": 43,
     "metadata": {},
     "output_type": "execute_result"
    }
   ],
   "source": [
    "data={1:'abc',2:'def',3:'ghi',4:'jkl',5:'mno'}\n",
    "type(data)"
   ]
  },
  {
   "cell_type": "code",
   "execution_count": 47,
   "id": "683e099e-6b0c-4e1c-8120-502044669ce8",
   "metadata": {},
   "outputs": [
    {
     "name": "stdout",
     "output_type": "stream",
     "text": [
      "abc\n",
      "def\n",
      "ghi\n",
      "jkl\n",
      "mno\n"
     ]
    }
   ],
   "source": [
    "for values in data.values():\n",
    "    print(values)"
   ]
  },
  {
   "cell_type": "code",
   "execution_count": 51,
   "id": "58292a33-589f-4ff9-aaf4-1ba3dcfec8f8",
   "metadata": {},
   "outputs": [
    {
     "ename": "SyntaxError",
     "evalue": "unterminated f-string literal (detected at line 2) (663316949.py, line 2)",
     "output_type": "error",
     "traceback": [
      "\u001b[1;36m  Cell \u001b[1;32mIn[51], line 2\u001b[1;36m\u001b[0m\n\u001b[1;33m    print(f'key is:={key},values is:-{values}\u001b[0m\n\u001b[1;37m          ^\u001b[0m\n\u001b[1;31mSyntaxError\u001b[0m\u001b[1;31m:\u001b[0m unterminated f-string literal (detected at line 2)\n"
     ]
    }
   ],
   "source": [
    "for key,values in data.items():\n",
    "    print(f'key is:={key},values is:-{values}"
   ]
  },
  {
   "cell_type": "code",
   "execution_count": null,
   "id": "e22b0a4c-5069-4157-afc4-bc29509dd3f6",
   "metadata": {},
   "outputs": [],
   "source": []
  },
  {
   "cell_type": "code",
   "execution_count": null,
   "id": "f22f477a-7ade-446b-ba63-cfa2faea1daf",
   "metadata": {},
   "outputs": [],
   "source": []
  },
  {
   "cell_type": "code",
   "execution_count": null,
   "id": "7a7bac1e-f9f6-4eab-99e8-c560cd8da93c",
   "metadata": {},
   "outputs": [],
   "source": []
  },
  {
   "cell_type": "code",
   "execution_count": null,
   "id": "8ce5acd6-2c08-42d1-9b01-019385e055ec",
   "metadata": {},
   "outputs": [],
   "source": []
  },
  {
   "cell_type": "code",
   "execution_count": null,
   "id": "9ca6ec41-c94d-4e58-b5dc-ae32d844bfa7",
   "metadata": {},
   "outputs": [],
   "source": []
  },
  {
   "cell_type": "code",
   "execution_count": null,
   "id": "e40089a7-2906-4c83-a4bf-d8af4fda4c7c",
   "metadata": {},
   "outputs": [],
   "source": []
  },
  {
   "cell_type": "markdown",
   "id": "f94bd2ef-2774-40f9-9203-bd2670065b3f",
   "metadata": {},
   "source": [
    "# tuple"
   ]
  },
  {
   "cell_type": "code",
   "execution_count": 18,
   "id": "bd5d9b06-31ba-4391-a138-0f252f4fd8b8",
   "metadata": {},
   "outputs": [
    {
     "data": {
      "text/plain": [
       "tuple"
      ]
     },
     "execution_count": 18,
     "metadata": {},
     "output_type": "execute_result"
    }
   ],
   "source": [
    "my_tuple= tuple()\n",
    "type(my_tuple)"
   ]
  },
  {
   "cell_type": "code",
   "execution_count": 20,
   "id": "9bd309f4-91d3-43f3-9cef-094b694b2a7b",
   "metadata": {},
   "outputs": [
    {
     "name": "stdout",
     "output_type": "stream",
     "text": [
      "('mayank', 'rahul', 'sourav', 'gopal')\n"
     ]
    }
   ],
   "source": [
    "my_tuple=(\"mayank\",\"rahul\",\"sourav\",\"gopal\")\n",
    "print(my_tuple)"
   ]
  },
  {
   "cell_type": "code",
   "execution_count": 3,
   "id": "a8a2e083-fea3-47c3-a809-ae0146f004b1",
   "metadata": {},
   "outputs": [
    {
     "data": {
      "text/plain": [
       "tuple"
      ]
     },
     "execution_count": 3,
     "metadata": {},
     "output_type": "execute_result"
    }
   ],
   "source": [
    "data=('x','y','z')\n",
    "type(data)"
   ]
  },
  {
   "cell_type": "code",
   "execution_count": 7,
   "id": "54c54633-737b-4613-8180-1516691e9266",
   "metadata": {},
   "outputs": [
    {
     "name": "stdout",
     "output_type": "stream",
     "text": [
      "['x', 'y', 'z', 't']\n"
     ]
    }
   ],
   "source": [
    "dt=list(data)\n",
    "dt.append('t')\n",
    "print(dt)"
   ]
  },
  {
   "cell_type": "code",
   "execution_count": 9,
   "id": "9997ceb0-1042-4b5d-aae9-21200cfa5d10",
   "metadata": {},
   "outputs": [
    {
     "data": {
      "text/plain": [
       "list"
      ]
     },
     "execution_count": 9,
     "metadata": {},
     "output_type": "execute_result"
    }
   ],
   "source": [
    "type(dt)"
   ]
  },
  {
   "cell_type": "code",
   "execution_count": 11,
   "id": "f37388b6-6c1a-47e1-93ba-67b389ff4853",
   "metadata": {},
   "outputs": [
    {
     "name": "stdout",
     "output_type": "stream",
     "text": [
      "('x', 'y', 'z', 't')\n"
     ]
    }
   ],
   "source": [
    "data=tuple(dt)\n",
    "print(data)"
   ]
  },
  {
   "cell_type": "code",
   "execution_count": 13,
   "id": "3aef7a23-10a4-45ed-851c-57967a9bbac0",
   "metadata": {},
   "outputs": [
    {
     "data": {
      "text/plain": [
       "tuple"
      ]
     },
     "execution_count": 13,
     "metadata": {},
     "output_type": "execute_result"
    }
   ],
   "source": [
    "type(data)"
   ]
  },
  {
   "cell_type": "code",
   "execution_count": 55,
   "id": "f6182924-7ba5-4cae-9f6e-0a9629ba6de0",
   "metadata": {},
   "outputs": [
    {
     "name": "stdout",
     "output_type": "stream",
     "text": [
      "['1', '2', '3', '4']\n"
     ]
    }
   ],
   "source": [
    "### program to remove repeted elements from a list\n",
    "l1=['1','2','3','4','4','2','2']\n",
    "l2=[]\n",
    "for value in l1:\n",
    "    if value not in l2:\n",
    "        l2.append(value)\n",
    "print(l2)"
   ]
  },
  {
   "cell_type": "code",
   "execution_count": 7,
   "id": "6366c97e-c833-4818-b7b0-8cf5f8169b08",
   "metadata": {},
   "outputs": [
    {
     "name": "stdout",
     "output_type": "stream",
     "text": [
      "['1', '2', '3', '4']\n"
     ]
    }
   ],
   "source": [
    "###using list comprehension\n",
    "l1=['1','2','3','4','4','2','2']\n",
    "l2=[]\n",
    "[l2.append(value)for value in l1 if value not in l2]\n",
    "print(l2)"
   ]
  },
  {
   "cell_type": "code",
   "execution_count": null,
   "id": "e6a18b40-4975-4ce6-a2bb-e4eeda9dbdf5",
   "metadata": {},
   "outputs": [],
   "source": []
  }
 ],
 "metadata": {
  "kernelspec": {
   "display_name": "Python 3 (ipykernel)",
   "language": "python",
   "name": "python3"
  },
  "language_info": {
   "codemirror_mode": {
    "name": "ipython",
    "version": 3
   },
   "file_extension": ".py",
   "mimetype": "text/x-python",
   "name": "python",
   "nbconvert_exporter": "python",
   "pygments_lexer": "ipython3",
   "version": "3.12.4"
  }
 },
 "nbformat": 4,
 "nbformat_minor": 5
}
