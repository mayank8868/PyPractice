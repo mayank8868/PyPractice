{
 "cells": [
  {
   "cell_type": "raw",
   "id": "aeb5a708-abe6-4cfa-8808-5e949b47227a",
   "metadata": {},
   "source": [
    "Filter the red Silk saree and display them all\n",
    "In an online shopping site, Seeta wants to buy a gorgeous red silk saree within Rs. 10K. Please save Seeta’s hours of time by not displaying many sarees with different colors and different types of sarees which are not in her budget. Instead make Seeta happy by writing a simple program which will filter and display only the red silk sarees within her budget.\n",
    "Given a string type input which consists of a dictionary where its keys are Product codes. And values are lists consisting of color, type and amount as it’s elements respectively. Please display the product codes as a list which satisfies all 3 conditions.\n",
    "Pre-requirements:\n",
    "Function to be used\tMin. count\n",
    "filter()\t1\n",
    "lambda()\t1\n",
    "\n"
   ]
  },
  {
   "cell_type": "code",
   "execution_count": 1,
   "id": "93316653-9aa9-4019-8959-a41f43ecee2a",
   "metadata": {},
   "outputs": [
    {
     "name": "stdout",
     "output_type": "stream",
     "text": [
      "The product codes for red silk sarees within the budget are: ['A1', 'A5', 'A7']\n"
     ]
    }
   ],
   "source": [
    "products = {\n",
    "    \"A1\": [\"red\", \"silk\", 9500],\n",
    "    \"A2\": [\"blue\", \"silk\", 8000],\n",
    "    \"A3\": [\"red\", \"cotton\", 7500],\n",
    "    \"A4\": [\"red\", \"silk\", 12000],\n",
    "    \"A5\": [\"red\", \"silk\", 7000],\n",
    "    \"A6\": [\"green\", \"silk\", 9000],\n",
    "    \"A7\": [\"red\", \"silk\", 10000]\n",
    "}\n",
    "\n",
    "filtered_products = list(filter(lambda x: x[1][0] == \"red\" and x[1][1] == \"silk\" and x[1][2] <= 10000, products.items()))\n",
    "\n",
    "filtered_product_codes = [item[0] for item in filtered_products]\n",
    "\n",
    "print(\"The product codes for red silk sarees within the budget are:\", filtered_product_codes)\n"
   ]
  },
  {
   "cell_type": "code",
   "execution_count": null,
   "id": "258083fa-2ee9-41c8-9863-cdd69d70ee3a",
   "metadata": {},
   "outputs": [],
   "source": []
  }
 ],
 "metadata": {
  "kernelspec": {
   "display_name": "Python 3 (ipykernel)",
   "language": "python",
   "name": "python3"
  },
  "language_info": {
   "codemirror_mode": {
    "name": "ipython",
    "version": 3
   },
   "file_extension": ".py",
   "mimetype": "text/x-python",
   "name": "python",
   "nbconvert_exporter": "python",
   "pygments_lexer": "ipython3",
   "version": "3.12.4"
  }
 },
 "nbformat": 4,
 "nbformat_minor": 5
}
