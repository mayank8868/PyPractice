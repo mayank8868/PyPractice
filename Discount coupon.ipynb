{
 "cells": [
  {
   "cell_type": "raw",
   "id": "185e57a5-55fa-4e11-9b08-de7dec32b791",
   "metadata": {},
   "source": [
    "Discount coupon\n",
    "Ravi has an online sweets store called ‘XYZ’. He wants to announce discount on the occasions of Christmas and new year. He has already distributed coupon codes amongst his customers. Please help him by writing piece of code which will be reducing the payable amount by the customer only if the coupon code is correct. Please note the coupon codes are case sensitive.\n",
    " Descriptions of coupon codes:\n",
    "1.\tPlease consider the payable amount by the customer  is Rs. 1500/-. \n",
    "2.\tIf the coupon code is 'CDEC01' then reduce Rs. 500/- from payable amount.\n",
    "3.\tIf the coupon code is 'ONEJAN02' then reduce half of the price from payable amount.\n",
    "4.\tIf the coupon code is '2234150' then display the message that the customer has earned 1000 loyalty points and don’t reduce any amount  from payable.\n",
    "\n",
    "........................................\n",
    "Sample case 1:\n",
    "Welcome to online shopping.\n",
    "your cart is not empty.\n",
    "You have to pay Rs. 1500/-\n",
    "Do you have coupon? type y or nn\n",
    "Please pay Rs. 1500/-\n",
    "\n",
    "Sample case 2:\n",
    "Welcome to online shopping.\n",
    "your cart is not empty.\n",
    "You have to pay Rs. 1500/-\n",
    "Do you have coupon? type y or ny\n",
    "Please enter the coupon code:CDEC01\n",
    "successfully applied the coupon code. Please pay 1000/-\n",
    "\n",
    "Sample case 3:\n",
    "Welcome to online shopping.\n",
    "your cart is not empty.\n",
    "You have to pay Rs. 1500/-\n",
    "Do you have coupon? type y or ny\n",
    "Please enter the coupon code:ONEJAN02\n",
    "successfully applied the coupon code. Please pay 750/-\n",
    "\n",
    "Sample case 4:\n",
    "Welcome to online shopping.\n",
    "your cart is not empty.\n",
    "You have to pay Rs. 1500/-\n",
    "Do you have coupon? type y or ny\n",
    "Please enter the coupon code:2234150\n",
    "successfully applied the coupon code.\n",
    "Congratulations! You got 1000 loyalty points for shopping with us. Please pay 1500/-"
   ]
  },
  {
   "cell_type": "code",
   "execution_count": null,
   "id": "495bae16-7899-447b-b70d-5deac5eeb1e1",
   "metadata": {},
   "outputs": [
    {
     "name": "stdout",
     "output_type": "stream",
     "text": [
      "Welcome to online shopping.\n",
      "Your cart is not empty.\n",
      "You have to pay Rs. 1500/-\n"
     ]
    },
    {
     "name": "stdin",
     "output_type": "stream",
     "text": [
      "Do you have coupon? type y or n:  y\n"
     ]
    }
   ],
   "source": [
    "payable_amount = 1500\n",
    "\n",
    "print(\"Welcome to online shopping.\")\n",
    "print(\"Your cart is not empty.\")\n",
    "print(f\"You have to pay Rs. {payable_amount}/-\")\n",
    "\n",
    "\n",
    "has_coupon = input(\"Do you have coupon? type y or n: \").strip().lower()\n",
    "\n",
    "if has_coupon == 'y':\n",
    "    \n",
    "    coupon_code = input(\"Please enter the coupon code: \").strip()\n",
    "\n",
    "    if coupon_code == 'CDEC01':\n",
    "        payable_amount -= 500\n",
    "        print(f\"Successfully applied the coupon code. Please pay Rs. {payable_amount}/-\")\n",
    "    elif coupon_code == 'ONEJAN02':\n",
    "        payable_amount /= 2\n",
    "        print(f\"Successfully applied the coupon code. Please pay Rs. {int(payable_amount)}/-\")\n",
    "    elif coupon_code == '2234150':\n",
    "        print(\"Successfully applied the coupon code.\")\n",
    "        print(\"Congratulations! You got 1000 loyalty points for shopping with us. Please pay Rs. 1500/-\")\n",
    "    else:\n",
    "        print(\"Invalid coupon code! Please pay Rs. 1500/-\")\n",
    "else:\n",
    "    print(f\"Please pay Rs. {payable_amount}/-\")\n"
   ]
  },
  {
   "cell_type": "code",
   "execution_count": null,
   "id": "35c5b72d-ac00-4993-83be-abe6f964184b",
   "metadata": {},
   "outputs": [],
   "source": []
  }
 ],
 "metadata": {
  "kernelspec": {
   "display_name": "Python 3 (ipykernel)",
   "language": "python",
   "name": "python3"
  },
  "language_info": {
   "codemirror_mode": {
    "name": "ipython",
    "version": 3
   },
   "file_extension": ".py",
   "mimetype": "text/x-python",
   "name": "python",
   "nbconvert_exporter": "python",
   "pygments_lexer": "ipython3",
   "version": "3.12.4"
  }
 },
 "nbformat": 4,
 "nbformat_minor": 5
}
