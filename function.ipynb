{
 "cells": [
  {
   "cell_type": "markdown",
   "id": "10e37425-e2f9-417c-8967-b6ef1540e795",
   "metadata": {},
   "source": [
    "## Functions"
   ]
  },
  {
   "cell_type": "code",
   "execution_count": 33,
   "id": "86fc4da8-75a1-4042-b34f-15036a9f2491",
   "metadata": {},
   "outputs": [
    {
     "name": "stdout",
     "output_type": "stream",
     "text": [
      "1:mayank\n"
     ]
    }
   ],
   "source": [
    "##reqiured arguments\n",
    "def display(id,name):\n",
    "    print(\"{}:{}\".format(id,name))\n",
    "display(1,\"mayank\")"
   ]
  },
  {
   "cell_type": "code",
   "execution_count": 23,
   "id": "563be199-98fb-413b-afaa-7cb7d456b082",
   "metadata": {},
   "outputs": [
    {
     "name": "stdout",
     "output_type": "stream",
     "text": [
      "my name is mayank and age is 20\n"
     ]
    }
   ],
   "source": [
    "##default argument\n",
    "def printme(name,age):\n",
    "    print(\"my name is\",name,\"and age is\",age)\n",
    "printme(\"mayank\",age=20)"
   ]
  },
  {
   "cell_type": "code",
   "execution_count": 27,
   "id": "e7b50d19-8389-4101-a5bf-f088f692c9d7",
   "metadata": {},
   "outputs": [
    {
     "name": "stdout",
     "output_type": "stream",
     "text": [
      "my name is brocco and age is 20\n"
     ]
    }
   ],
   "source": [
    "##keyword argument\n",
    "def printme(name,age):\n",
    "    print(\"my name is\",name,\"and age is\",age)\n",
    "printme(name=\"brocco\",age=20)"
   ]
  },
  {
   "cell_type": "code",
   "execution_count": 35,
   "id": "72f90820-da30-492f-82b3-124d79b38596",
   "metadata": {},
   "outputs": [
    {
     "name": "stdout",
     "output_type": "stream",
     "text": [
      "type of passed argumentis <class 'tuple'>\n",
      "jhon --> 4\n",
      "mayank --> 6\n",
      "david --> 5\n",
      "smith --> 5\n"
     ]
    }
   ],
   "source": [
    "## variable length arguments\n",
    "def printme(*names):\n",
    "    print(\"type of passed argumentis\",type(names))\n",
    "    for name in names:\n",
    "        print(name,\"-->\",len(name))\n",
    "printme(\"jhon\",\"mayank\",\"david\",\"smith\")"
   ]
  },
  {
   "cell_type": "code",
   "execution_count": 42,
   "id": "486c0acc-f91c-4a96-b902-e585ba88fce0",
   "metadata": {},
   "outputs": [
    {
     "name": "stdout",
     "output_type": "stream",
     "text": [
      "('mayank  yadavsingh', 'mayank  singhyadav', 'mayank  singh', 'mayank  yadav')\n"
     ]
    }
   ],
   "source": [
    "##progrm to print first name ,last name in different variations\n",
    "f_name,m_name,l_name=\"mayank\",\"\",\"yadav-singh\"\n",
    "def namevariation(f_name,m_name,l_name):\n",
    "    if \"-\" in l_name:\n",
    "       value= l_name.split(\"-\")\n",
    "       var_1=f\"{f_name} {m_name} {value[0]}{value[1]}\".strip()\n",
    "       var_2=f\"{f_name} {m_name} {value[1]}{value[0]}\".strip()\n",
    "       var_3=f\"{f_name} {m_name} {value[1]}\".strip()\n",
    "       var_4=f\"{f_name} {m_name} {value[0]}\".strip()\n",
    "       return (var_1, var_2, var_3, var_4)\n",
    "    else:\n",
    "        full_name=f'{f_name} {m_name} {l_name}'.strip()\n",
    "        return full_name\n",
    "result= namevariation(f_name,m_name,l_name)\n",
    "print(result)"
   ]
  },
  {
   "cell_type": "markdown",
   "id": "a1e15d18-3e97-481f-a7b0-f40b25ad3bc2",
   "metadata": {},
   "source": [
    "## Higher order functions"
   ]
  },
  {
   "cell_type": "raw",
   "id": "d88a3eb8-b7be-4308-a270-260393940aee",
   "metadata": {},
   "source": [
    "1:-lambda function:-\n",
    "argument- lambda arguments: expression\n",
    "also known as anonymous function, it is a way to create small code without using def keyword.\n",
    "used with built in function like map(), filter().\n"
   ]
  },
  {
   "cell_type": "code",
   "execution_count": 45,
   "id": "c444f197-7d56-4c70-8700-d791f5daef4b",
   "metadata": {},
   "outputs": [
    {
     "data": {
      "text/plain": [
       "11"
      ]
     },
     "execution_count": 45,
     "metadata": {},
     "output_type": "execute_result"
    }
   ],
   "source": [
    "add= lambda x,y:x+y\n",
    "add(6,5)"
   ]
  },
  {
   "cell_type": "code",
   "execution_count": 47,
   "id": "80f7d468-2a47-44db-9c8d-c6fdd425dc6a",
   "metadata": {},
   "outputs": [
    {
     "name": "stdout",
     "output_type": "stream",
     "text": [
      "11\n"
     ]
    }
   ],
   "source": [
    "add=lambda x,y:x+y\n",
    "print(add(6,5))"
   ]
  },
  {
   "cell_type": "markdown",
   "id": "048998c6-072c-4560-b416-cd74e3619d89",
   "metadata": {},
   "source": [
    "## enumerate function:- it add a counter or index in the form of tuple."
   ]
  },
  {
   "cell_type": "code",
   "execution_count": 50,
   "id": "7326121f-afe6-4586-973b-489126e378d6",
   "metadata": {},
   "outputs": [
    {
     "name": "stdout",
     "output_type": "stream",
     "text": [
      "0 cat\n",
      "1 dog\n",
      "2 cow\n",
      "3 fish\n",
      "4 horse\n",
      "5 lion\n",
      "6 lizard\n"
     ]
    }
   ],
   "source": [
    "li=['cat','dog','cow','fish','horse','lion','lizard']\n",
    "de = enumerate(li)\n",
    "for index,value in de:\n",
    "    print(index,value)"
   ]
  },
  {
   "cell_type": "code",
   "execution_count": 7,
   "id": "795faf3f-fd5c-49fa-a321-edb92c035a20",
   "metadata": {},
   "outputs": [
    {
     "name": "stdin",
     "output_type": "stream",
     "text": [
      "Enter a string:  qwerrryyioplkhgfsaazxcvbnm\n"
     ]
    },
    {
     "name": "stdout",
     "output_type": "stream",
     "text": [
      "Number of vowels in the entered string: 5\n"
     ]
    }
   ],
   "source": [
    "##program to find the total number of vowels in a string\n",
    "def count_vowels(text):\n",
    "    vowels = \"aeiouAEIOU\" \n",
    "    count = 0\n",
    "    for char in text:\n",
    "        if char in vowels:\n",
    "            count += 1\n",
    "    return count\n",
    "user_input = input(\"Enter a string: \")\n",
    "vowel_count = count_vowels(user_input)\n",
    "print(f\"Number of vowels in the entered string: {vowel_count}\")"
   ]
  },
  {
   "cell_type": "code",
   "execution_count": null,
   "id": "12316ecd-e3bb-4e57-adeb-37a659d40a84",
   "metadata": {},
   "outputs": [],
   "source": [
    "# Function for Addition\n",
    "def add(x, y):\n",
    "    return x + y\n",
    "\n",
    "# Function for Subtraction\n",
    "def subtract(x, y):\n",
    "    return x - y\n",
    "\n",
    "# Function for Multiplication\n",
    "def multiply(x, y):\n",
    "    return x * y\n",
    "\n",
    "# Function for Division\n",
    "def divide(x, y):\n",
    "    if y != 0:\n",
    "        return x / y\n",
    "    else:\n",
    "        return \"Error! Division by zero.\"\n",
    "\n",
    "# Main function to run the program\n",
    "def main():\n",
    "    print(\"Welcome to the arithmetic operation program!\")\n",
    "    number = float(input(\"Enter a number to start: \"))\n",
    "    \n",
    "    while True:\n",
    "        print(\"\\nChoose an operation:\")\n",
    "        print(\"1. Add\")\n",
    "        print(\"2. Subtract\")\n",
    "        print(\"3. Multiply\")\n",
    "        print(\"4. Divide\")\n",
    "        print(\"5. Exit\")\n",
    "\n",
    "        choice = input(\"Enter choice (1/2/3/4/5): \")\n",
    "\n",
    "        if choice == '1':\n",
    "            value = float(input(\"Enter a number to add: \"))\n",
    "            number = add(number, value)\n",
    "            print(f\"Result: {number}\")\n",
    "\n",
    "        elif choice == '2':\n",
    "            value = float(input(\"Enter a number to subtract: \"))\n",
    "            number = subtract(number, value)\n",
    "            print(f\"Result: {number}\")\n",
    "\n",
    "        elif choice == '3':\n",
    "            value = float(input(\"Enter a number to multiply: \"))\n",
    "            number = multiply(number, value)\n",
    "            print(f\"Result: {number}\")\n",
    "\n",
    "        elif choice == '4':\n",
    "            value = float(input(\"Enter a number to divide: \"))\n",
    "            result = divide(number, value)\n",
    "            if isinstance(result, str):  # Check if it's an error message\n",
    "                print(result)\n",
    "            else:\n",
    "                number = result\n",
    "                print(f\"Result: {number}\")\n",
    "\n",
    "        elif choice == '5':\n",
    "            print(\"Exiting the program. Goodbye!\")\n",
    "            break  # Exit the loop and program\n",
    "\n",
    "        else:\n",
    "            print(\"Invalid input! Please choose a valid option.\")\n",
    "\n",
    "if __name__ == \"__main__\":\n",
    "    main()\n",
    "\n",
    "    "
   ]
  },
  {
   "cell_type": "markdown",
   "id": "ceb27687-715b-47ae-a3b1-dbc56c289616",
   "metadata": {},
   "source": [
    "## map,filter and reduce:-"
   ]
  },
  {
   "cell_type": "raw",
   "id": "c1d1de6d-34fe-4ffe-8f9e-60371cf9da7c",
   "metadata": {},
   "source": [
    "these are the higher order function in python that allows the application of a function across  anumber of iterables in one fell swoop."
   ]
  },
  {
   "cell_type": "code",
   "execution_count": 12,
   "id": "2a6cd41c-6161-416d-a5d2-1357ed44f5a2",
   "metadata": {},
   "outputs": [
    {
     "name": "stdout",
     "output_type": "stream",
     "text": [
      "new list is-:[8, 27, 64, 125, 216, 343, 512, 729, 1000, 1331, 1728, 2197, 2744, 3375]\n"
     ]
    }
   ],
   "source": [
    "#without using map function\n",
    "def cube(x):\n",
    "    return x*x*x\n",
    "## main list\n",
    "m1=[2,3,4,5,6,7,8,9,10,11,12,13,14,15]\n",
    "#normal way\n",
    "m2=[]\n",
    "for i in m1:\n",
    "    m2.append(cube(i))\n",
    "print(f'new list is-:{m2}')\n"
   ]
  },
  {
   "cell_type": "markdown",
   "id": "66ab0964-4912-4121-93c2-d2a77b6e3b60",
   "metadata": {},
   "source": [
    "## map"
   ]
  },
  {
   "cell_type": "code",
   "execution_count": 10,
   "id": "ac45beb7-94b6-465a-8518-600658db87f3",
   "metadata": {},
   "outputs": [
    {
     "name": "stdout",
     "output_type": "stream",
     "text": [
      "[8, 27, 64, 125, 216, 343, 512, 729, 1000, 1331, 1728, 2197, 2744, 3375]\n"
     ]
    }
   ],
   "source": [
    "##using map function\n",
    "y=list(map(lambda x:x*x*x,m1))\n",
    "print(y)"
   ]
  },
  {
   "cell_type": "code",
   "execution_count": 16,
   "id": "6d9d1861-2675-4069-ace2-7a0ca3bdf442",
   "metadata": {},
   "outputs": [
    {
     "name": "stdout",
     "output_type": "stream",
     "text": [
      "3\n",
      "5\n",
      "7\n",
      "9\n",
      "11\n",
      "13\n",
      "15\n",
      "new list is-:[8, 64, 216, 512, 1000, 1728, 2744]\n"
     ]
    }
   ],
   "source": [
    "#without using map function\n",
    "def cube(x):\n",
    "    return x*x*x\n",
    "## main list\n",
    "m1=[2,3,4,5,6,7,8,9,10,11,12,13,14,15]\n",
    "#normal way\n",
    "m2=[]\n",
    "for i in m1:\n",
    "    if  i%2==0:\n",
    "        m2.append(cube(i))\n",
    "    else:\n",
    "        print(i)\n",
    "print(f'new list is-:{m2}')\n"
   ]
  },
  {
   "cell_type": "code",
   "execution_count": 40,
   "id": "f8e21ab7-2dbc-470d-bc42-617cf1caf713",
   "metadata": {},
   "outputs": [
    {
     "name": "stdout",
     "output_type": "stream",
     "text": [
      "[2, 3, 4, 5, 6, 7, 8, 9, 10, 11, 12, 13, 14, 15]\n"
     ]
    }
   ],
   "source": [
    "##by using map function with if else conditions\n",
    "y=list(map(lambda x: x*x*x if i%2==0 else x,m1))\n",
    "print(y)"
   ]
  },
  {
   "cell_type": "markdown",
   "id": "31b1415f-83da-4abc-a732-c61c4dc75b29",
   "metadata": {},
   "source": [
    "## filter\n"
   ]
  },
  {
   "cell_type": "code",
   "execution_count": null,
   "id": "2b7d6539-fd13-4233-874f-924d461b2ae2",
   "metadata": {},
   "outputs": [],
   "source": [
    "## filter function :- used to filter elements on the basiis of given criteria by combining function and iterator."
   ]
  },
  {
   "cell_type": "code",
   "execution_count": 46,
   "id": "84139641-0b2d-400e-997e-92f73adadcb9",
   "metadata": {},
   "outputs": [
    {
     "name": "stdout",
     "output_type": "stream",
     "text": [
      "new list is ->[2, 4, 6, 8, 10, 12, 14]\n"
     ]
    }
   ],
   "source": [
    "#only even number\n",
    "def even(x):\n",
    "    return x%2==0\n",
    "m3=list(filter(even,m1))\n",
    "print(f'new list is ->{m3}')"
   ]
  },
  {
   "cell_type": "code",
   "execution_count": 54,
   "id": "232b1736-e285-4e5d-9154-01acbc00a023",
   "metadata": {},
   "outputs": [
    {
     "name": "stdout",
     "output_type": "stream",
     "text": [
      "new list is ->[8, 64, 216, 512, 1000, 1728, 2744]\n"
     ]
    }
   ],
   "source": [
    "## cube for even numberrs\n",
    "def even(x):\n",
    "    return x%2==0\n",
    "m6=list(map(lambda x:x*x*x,filter(lambda x:x%2==0,m1)))\n",
    "print(f'new list is ->{m6}')"
   ]
  },
  {
   "cell_type": "markdown",
   "id": "cc780662-fa39-416c-83ed-0d13e2fbf2c2",
   "metadata": {},
   "source": [
    "## Reduce"
   ]
  },
  {
   "cell_type": "raw",
   "id": "3f2e65f3-4800-4dc4-b9cd-9c7e42f5449f",
   "metadata": {},
   "source": [
    "used to reduce the elements of an iterable by applying a any ggiven aggregation function."
   ]
  },
  {
   "cell_type": "code",
   "execution_count": 63,
   "id": "652262aa-cc43-4626-b2bf-b7e2f5a0e064",
   "metadata": {},
   "outputs": [
    {
     "name": "stdout",
     "output_type": "stream",
     "text": [
      "15\n"
     ]
    }
   ],
   "source": [
    "#importing reduce\n",
    "from functools import reduce\n",
    "def my_sum(x,y):\n",
    "    return x+y\n",
    "m1=[1,2,3,4,5]\n",
    "s1=reduce(my_sum,m1)\n",
    "print(s1)\n",
    "    \n",
    "    \n",
    "    "
   ]
  },
  {
   "cell_type": "code",
   "execution_count": null,
   "id": "f61f1c5d-1873-43f8-b796-630e3b39ac84",
   "metadata": {},
   "outputs": [],
   "source": []
  },
  {
   "cell_type": "code",
   "execution_count": null,
   "id": "d07bd754-305c-40a0-8f51-641984f892ce",
   "metadata": {},
   "outputs": [],
   "source": []
  },
  {
   "cell_type": "code",
   "execution_count": null,
   "id": "ee8e5807-41fb-4149-9aa8-4c6b96974f92",
   "metadata": {},
   "outputs": [],
   "source": []
  },
  {
   "cell_type": "code",
   "execution_count": null,
   "id": "e40efd71-10ab-4f61-9ec8-69b367de85c2",
   "metadata": {},
   "outputs": [],
   "source": []
  }
 ],
 "metadata": {
  "kernelspec": {
   "display_name": "Python 3 (ipykernel)",
   "language": "python",
   "name": "python3"
  },
  "language_info": {
   "codemirror_mode": {
    "name": "ipython",
    "version": 3
   },
   "file_extension": ".py",
   "mimetype": "text/x-python",
   "name": "python",
   "nbconvert_exporter": "python",
   "pygments_lexer": "ipython3",
   "version": "3.12.4"
  }
 },
 "nbformat": 4,
 "nbformat_minor": 5
}
